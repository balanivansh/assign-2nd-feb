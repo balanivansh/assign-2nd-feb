{
 "cells": [
  {
   "cell_type": "markdown",
   "id": "13020ec2-f509-4e1e-9c73-7adc6d3f655b",
   "metadata": {},
   "source": [
    "1. for loop  is used when the number of iterations is known whereas while loop is used when the number of iterations is unknown and the statement will run until the condition is proved false.\n",
    "\n",
    "e.g. \n"
   ]
  },
  {
   "cell_type": "code",
   "execution_count": 2,
   "id": "50d0b0fb-f5c8-42d5-80af-1fbed3986031",
   "metadata": {},
   "outputs": [
    {
     "name": "stdout",
     "output_type": "stream",
     "text": [
      "Input list elements:\n",
      "10\n",
      "20\n",
      "30\n",
      "40\n",
      "50\n"
     ]
    }
   ],
   "source": [
    "# example of for loop\n",
    "inputList = [10, 20, 30, 40, 50]\n",
    "print(\"Input list elements:\")\n",
    "for element in inputList:\n",
    "    print (element)"
   ]
  },
  {
   "cell_type": "code",
   "execution_count": 3,
   "id": "37419092-0fd3-4fe1-b4ee-4a69ecf6f80d",
   "metadata": {},
   "outputs": [
    {
     "name": "stdout",
     "output_type": "stream",
     "text": [
      "0\n",
      "1\n",
      "2\n",
      "3\n",
      "4\n",
      "5\n"
     ]
    }
   ],
   "source": [
    "# example of while loop\n",
    "i = 0\n",
    "while i <= 5 :\n",
    "    print (i)\n",
    "    i += 1"
   ]
  },
  {
   "cell_type": "code",
   "execution_count": 3,
   "id": "407e864b-5e86-47b0-8c11-8baac1ce5da1",
   "metadata": {},
   "outputs": [],
   "source": [
    "# 2. "
   ]
  },
  {
   "cell_type": "code",
   "execution_count": 4,
   "id": "f591f082-42c8-4d0e-8aed-2b7f65845494",
   "metadata": {},
   "outputs": [
    {
     "name": "stdout",
     "output_type": "stream",
     "text": [
      "55\n"
     ]
    }
   ],
   "source": [
    "# sum using for loop\n",
    "sum = 0\n",
    "for i in range(1,11):\n",
    "    sum = sum + i\n",
    "print(sum)\n",
    "    "
   ]
  },
  {
   "cell_type": "code",
   "execution_count": 5,
   "id": "79713507-e41d-4315-bf28-eb87f0bf414b",
   "metadata": {},
   "outputs": [
    {
     "name": "stdout",
     "output_type": "stream",
     "text": [
      "55\n"
     ]
    }
   ],
   "source": [
    "# sum using while loop\n",
    "sum = 0\n",
    "i = 0\n",
    "while i<11 :\n",
    "    sum = sum + i\n",
    "    i += 1\n",
    "print(sum)\n",
    "    "
   ]
  },
  {
   "cell_type": "code",
   "execution_count": 6,
   "id": "561648fa-ec71-4b2f-b948-c78f2d8f487c",
   "metadata": {},
   "outputs": [
    {
     "name": "stdout",
     "output_type": "stream",
     "text": [
      "3628800\n"
     ]
    }
   ],
   "source": [
    "# product using for loop\n",
    "product = 1\n",
    "for i in range(1,11):\n",
    "    product = product*i\n",
    "print(product)\n",
    "    "
   ]
  },
  {
   "cell_type": "code",
   "execution_count": 7,
   "id": "618dec01-bf15-451b-a729-f2a84941145c",
   "metadata": {},
   "outputs": [
    {
     "name": "stdout",
     "output_type": "stream",
     "text": [
      "3628800\n"
     ]
    }
   ],
   "source": [
    "# product using while loop\n",
    "product = 1\n",
    "i = 1\n",
    "while i<11 :\n",
    "    product = product*i\n",
    "    i += 1\n",
    "print(product)\n",
    "    "
   ]
  },
  {
   "cell_type": "code",
   "execution_count": 8,
   "id": "42b18788-b102-4534-8dee-2d5caa992d8e",
   "metadata": {},
   "outputs": [],
   "source": [
    "# 3. "
   ]
  },
  {
   "cell_type": "code",
   "execution_count": 9,
   "id": "4437c01a-4180-4e0e-bf66-64ac213b0fc2",
   "metadata": {},
   "outputs": [
    {
     "name": "stdin",
     "output_type": "stream",
     "text": [
      "Enter your monthly electricity consumption:  310\n"
     ]
    },
    {
     "name": "stdout",
     "output_type": "stream",
     "text": [
      "2250.0\n"
     ]
    }
   ],
   "source": [
    "units = int(input(\"Enter your monthly electricity consumption: \"))\n",
    "if units <= 100 :\n",
    "    bill = units * 4.5\n",
    "    print (bill)\n",
    "elif units <= 200 :\n",
    "    bill = 100*4.5 + (units-100)*6\n",
    "    print(bill)\n",
    "elif units <= 300 :\n",
    "    bill = 100*4.5 + 100*6 + (units-200)*10\n",
    "    print(bill)\n",
    "else :\n",
    "    bill = 100*4.5 + 100*6 + 100*10 + (units-300)*20\n",
    "    print(bill)\n",
    "    "
   ]
  },
  {
   "cell_type": "code",
   "execution_count": 10,
   "id": "f28c39d5-db95-48e4-bd36-954c93542fdf",
   "metadata": {},
   "outputs": [],
   "source": [
    "# 4."
   ]
  },
  {
   "cell_type": "code",
   "execution_count": 11,
   "id": "0df88d56-5c61-412c-aefb-37f8d508bbf5",
   "metadata": {},
   "outputs": [
    {
     "name": "stdout",
     "output_type": "stream",
     "text": [
      "[1, 2, 3, 4, 5, 6, 7, 8, 9, 10, 11, 12, 13, 14, 15, 16, 17, 18, 19, 20, 21, 22, 23, 24, 25, 26, 27, 28, 29, 30, 31, 32, 33, 34, 35, 36, 37, 38, 39, 40, 41, 42, 43, 44, 45, 46, 47, 48, 49, 50, 51, 52, 53, 54, 55, 56, 57, 58, 59, 60, 61, 62, 63, 64, 65, 66, 67, 68, 69, 70, 71, 72, 73, 74, 75, 76, 77, 78, 79, 80, 81, 82, 83, 84, 85, 86, 87, 88, 89, 90, 91, 92, 93, 94, 95, 96, 97, 98, 99, 100]\n"
     ]
    }
   ],
   "source": [
    "lst=[]\n",
    "for i in range (1,101):\n",
    "    lst.append(i)\n",
    "print(lst)"
   ]
  },
  {
   "cell_type": "code",
   "execution_count": 12,
   "id": "7242cfc0-c4c7-4b9f-b3bc-8747b2b5de89",
   "metadata": {},
   "outputs": [
    {
     "name": "stdout",
     "output_type": "stream",
     "text": [
      "[1, 8, 27, 64, 125, 216, 343, 512, 729, 1000, 1331, 1728, 2197, 2744, 3375, 4096, 4913, 5832, 6859, 8000, 9261, 10648, 12167, 13824, 15625, 17576, 19683, 21952, 24389, 27000, 29791, 32768, 35937, 39304, 42875, 46656, 50653, 54872, 59319, 64000, 68921, 74088, 79507, 85184, 91125, 97336, 103823, 110592, 117649, 125000, 132651, 140608, 148877, 157464, 166375, 175616, 185193, 195112, 205379, 216000, 226981, 238328, 250047, 262144, 274625, 287496, 300763, 314432, 328509, 343000, 357911, 373248, 389017, 405224, 421875, 438976, 456533, 474552, 493039, 512000, 531441, 551368, 571787, 592704, 614125, 636056, 658503, 681472, 704969, 729000, 753571, 778688, 804357, 830584, 857375, 884736, 912673, 941192, 970299, 1000000]\n"
     ]
    }
   ],
   "source": [
    "# cube using for loop\n",
    "lst1=[]\n",
    "for i in lst:\n",
    "    lst1.append(i*i*i)\n",
    "print (lst1)    "
   ]
  },
  {
   "cell_type": "code",
   "execution_count": 13,
   "id": "9ea0e43b-a805-4127-9931-5523c3d76ce3",
   "metadata": {},
   "outputs": [
    {
     "name": "stdout",
     "output_type": "stream",
     "text": [
      "[1, 8, 27, 64, 125, 216, 343, 512, 729, 1000, 1331, 1728, 2197, 2744, 3375, 4096, 4913, 5832, 6859, 8000, 9261, 10648, 12167, 13824, 15625, 17576, 19683, 21952, 24389, 27000, 29791, 32768, 35937, 39304, 42875, 46656, 50653, 54872, 59319, 64000, 68921, 74088, 79507, 85184, 91125, 97336, 103823, 110592, 117649, 125000, 132651, 140608, 148877, 157464, 166375, 175616, 185193, 195112, 205379, 216000, 226981, 238328, 250047, 262144, 274625, 287496, 300763, 314432, 328509, 343000, 357911, 373248, 389017, 405224, 421875, 438976, 456533, 474552, 493039, 512000, 531441, 551368, 571787, 592704, 614125, 636056, 658503, 681472, 704969, 729000, 753571, 778688, 804357, 830584, 857375, 884736, 912673, 941192, 970299, 1000000]\n"
     ]
    }
   ],
   "source": [
    "# cube using while loop\n",
    "lst2=[]\n",
    "i = 1\n",
    "while i <= len(lst):\n",
    "    lst2.append(i*i*i)\n",
    "    i += 1\n",
    "print(lst2)    "
   ]
  },
  {
   "cell_type": "code",
   "execution_count": 14,
   "id": "5788db11-e34a-4357-adb3-2ba14093abfb",
   "metadata": {},
   "outputs": [
    {
     "name": "stdout",
     "output_type": "stream",
     "text": [
      "[8, 64, 125, 216, 512, 1000, 1728, 2744, 3375, 4096, 5832, 8000, 10648, 13824, 15625, 17576, 21952, 27000, 32768, 39304, 42875, 46656, 54872, 64000, 74088, 85184, 91125, 97336, 110592, 125000, 140608, 157464, 166375, 175616, 195112, 216000, 238328, 262144, 274625, 287496, 314432, 343000, 373248, 405224, 421875, 438976, 474552, 512000, 551368, 592704, 614125, 636056, 681472, 729000, 778688, 830584, 857375, 884736, 941192, 1000000]\n"
     ]
    }
   ],
   "source": [
    "list=[]\n",
    "for i in lst1:\n",
    "    if i%4==0 or i%5==0:\n",
    "        list.append(i)\n",
    "print(list)    "
   ]
  },
  {
   "cell_type": "code",
   "execution_count": 17,
   "id": "287dade4-ae6a-47dd-8d54-a9cd33eefe86",
   "metadata": {},
   "outputs": [],
   "source": [
    "# 5. "
   ]
  },
  {
   "cell_type": "code",
   "execution_count": 20,
   "id": "71c1fb63-856d-4cbb-a2f9-4f004b1bbbb6",
   "metadata": {},
   "outputs": [
    {
     "name": "stdout",
     "output_type": "stream",
     "text": [
      "12\n"
     ]
    }
   ],
   "source": [
    "string = 'I want to become a data scientist'\n",
    "vowels=0\n",
    "for i in string:\n",
    "      if(i=='a' or i=='e' or i=='i' or i=='o' or i=='u' or i=='A' or i=='E' or i=='I' or i=='O' or i=='U'):\n",
    "            vowels=vowels+1\n",
    "print(vowels)\n"
   ]
  },
  {
   "cell_type": "code",
   "execution_count": null,
   "id": "23f62201-de43-4c8e-931e-d1f12592c6ac",
   "metadata": {},
   "outputs": [],
   "source": []
  }
 ],
 "metadata": {
  "kernelspec": {
   "display_name": "Python 3 (ipykernel)",
   "language": "python",
   "name": "python3"
  },
  "language_info": {
   "codemirror_mode": {
    "name": "ipython",
    "version": 3
   },
   "file_extension": ".py",
   "mimetype": "text/x-python",
   "name": "python",
   "nbconvert_exporter": "python",
   "pygments_lexer": "ipython3",
   "version": "3.10.8"
  }
 },
 "nbformat": 4,
 "nbformat_minor": 5
}
